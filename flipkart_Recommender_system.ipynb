{
 "cells": [
  {
   "cell_type": "code",
   "execution_count": 1,
   "id": "d66c9bac",
   "metadata": {},
   "outputs": [],
   "source": [
    "import pandas as pd\n",
    "import numpy as np"
   ]
  },
  {
   "cell_type": "code",
   "execution_count": 2,
   "id": "731bdfca",
   "metadata": {},
   "outputs": [],
   "source": [
    "import ast"
   ]
  },
  {
   "cell_type": "code",
   "execution_count": 3,
   "id": "0b19b2d9",
   "metadata": {},
   "outputs": [],
   "source": [
    "df = pd.read_csv('flipkart_com-ecommerce_sample.csv')"
   ]
  },
  {
   "cell_type": "code",
   "execution_count": 4,
   "id": "2cbc0622",
   "metadata": {},
   "outputs": [
    {
     "data": {
      "text/html": [
       "<div>\n",
       "<style scoped>\n",
       "    .dataframe tbody tr th:only-of-type {\n",
       "        vertical-align: middle;\n",
       "    }\n",
       "\n",
       "    .dataframe tbody tr th {\n",
       "        vertical-align: top;\n",
       "    }\n",
       "\n",
       "    .dataframe thead th {\n",
       "        text-align: right;\n",
       "    }\n",
       "</style>\n",
       "<table border=\"1\" class=\"dataframe\">\n",
       "  <thead>\n",
       "    <tr style=\"text-align: right;\">\n",
       "      <th></th>\n",
       "      <th>uniq_id</th>\n",
       "      <th>crawl_timestamp</th>\n",
       "      <th>product_url</th>\n",
       "      <th>product_name</th>\n",
       "      <th>product_category_tree</th>\n",
       "      <th>pid</th>\n",
       "      <th>retail_price</th>\n",
       "      <th>discounted_price</th>\n",
       "      <th>image</th>\n",
       "      <th>is_FK_Advantage_product</th>\n",
       "      <th>description</th>\n",
       "      <th>product_rating</th>\n",
       "      <th>overall_rating</th>\n",
       "      <th>brand</th>\n",
       "      <th>product_specifications</th>\n",
       "    </tr>\n",
       "  </thead>\n",
       "  <tbody>\n",
       "    <tr>\n",
       "      <th>0</th>\n",
       "      <td>c2d766ca982eca8304150849735ffef9</td>\n",
       "      <td>2016-03-25 22:59:23 +0000</td>\n",
       "      <td>http://www.flipkart.com/alisha-solid-women-s-c...</td>\n",
       "      <td>Alisha Solid Women's Cycling Shorts</td>\n",
       "      <td>[\"Clothing &gt;&gt; Women's Clothing &gt;&gt; Lingerie, Sl...</td>\n",
       "      <td>SRTEH2FF9KEDEFGF</td>\n",
       "      <td>999.0</td>\n",
       "      <td>379.0</td>\n",
       "      <td>[\"http://img5a.flixcart.com/image/short/u/4/a/...</td>\n",
       "      <td>False</td>\n",
       "      <td>Key Features of Alisha Solid Women's Cycling S...</td>\n",
       "      <td>No rating available</td>\n",
       "      <td>No rating available</td>\n",
       "      <td>Alisha</td>\n",
       "      <td>{\"product_specification\"=&gt;[{\"key\"=&gt;\"Number of ...</td>\n",
       "    </tr>\n",
       "    <tr>\n",
       "      <th>1</th>\n",
       "      <td>7f7036a6d550aaa89d34c77bd39a5e48</td>\n",
       "      <td>2016-03-25 22:59:23 +0000</td>\n",
       "      <td>http://www.flipkart.com/fabhomedecor-fabric-do...</td>\n",
       "      <td>FabHomeDecor Fabric Double Sofa Bed</td>\n",
       "      <td>[\"Furniture &gt;&gt; Living Room Furniture &gt;&gt; Sofa B...</td>\n",
       "      <td>SBEEH3QGU7MFYJFY</td>\n",
       "      <td>32157.0</td>\n",
       "      <td>22646.0</td>\n",
       "      <td>[\"http://img6a.flixcart.com/image/sofa-bed/j/f...</td>\n",
       "      <td>False</td>\n",
       "      <td>FabHomeDecor Fabric Double Sofa Bed (Finish Co...</td>\n",
       "      <td>No rating available</td>\n",
       "      <td>No rating available</td>\n",
       "      <td>FabHomeDecor</td>\n",
       "      <td>{\"product_specification\"=&gt;[{\"key\"=&gt;\"Installati...</td>\n",
       "    </tr>\n",
       "    <tr>\n",
       "      <th>2</th>\n",
       "      <td>f449ec65dcbc041b6ae5e6a32717d01b</td>\n",
       "      <td>2016-03-25 22:59:23 +0000</td>\n",
       "      <td>http://www.flipkart.com/aw-bellies/p/itmeh4grg...</td>\n",
       "      <td>AW Bellies</td>\n",
       "      <td>[\"Footwear &gt;&gt; Women's Footwear &gt;&gt; Ballerinas &gt;...</td>\n",
       "      <td>SHOEH4GRSUBJGZXE</td>\n",
       "      <td>999.0</td>\n",
       "      <td>499.0</td>\n",
       "      <td>[\"http://img5a.flixcart.com/image/shoe/7/z/z/r...</td>\n",
       "      <td>False</td>\n",
       "      <td>Key Features of AW Bellies Sandals Wedges Heel...</td>\n",
       "      <td>No rating available</td>\n",
       "      <td>No rating available</td>\n",
       "      <td>AW</td>\n",
       "      <td>{\"product_specification\"=&gt;[{\"key\"=&gt;\"Ideal For\"...</td>\n",
       "    </tr>\n",
       "    <tr>\n",
       "      <th>3</th>\n",
       "      <td>0973b37acd0c664e3de26e97e5571454</td>\n",
       "      <td>2016-03-25 22:59:23 +0000</td>\n",
       "      <td>http://www.flipkart.com/alisha-solid-women-s-c...</td>\n",
       "      <td>Alisha Solid Women's Cycling Shorts</td>\n",
       "      <td>[\"Clothing &gt;&gt; Women's Clothing &gt;&gt; Lingerie, Sl...</td>\n",
       "      <td>SRTEH2F6HUZMQ6SJ</td>\n",
       "      <td>699.0</td>\n",
       "      <td>267.0</td>\n",
       "      <td>[\"http://img5a.flixcart.com/image/short/6/2/h/...</td>\n",
       "      <td>False</td>\n",
       "      <td>Key Features of Alisha Solid Women's Cycling S...</td>\n",
       "      <td>No rating available</td>\n",
       "      <td>No rating available</td>\n",
       "      <td>Alisha</td>\n",
       "      <td>{\"product_specification\"=&gt;[{\"key\"=&gt;\"Number of ...</td>\n",
       "    </tr>\n",
       "    <tr>\n",
       "      <th>4</th>\n",
       "      <td>bc940ea42ee6bef5ac7cea3fb5cfbee7</td>\n",
       "      <td>2016-03-25 22:59:23 +0000</td>\n",
       "      <td>http://www.flipkart.com/sicons-all-purpose-arn...</td>\n",
       "      <td>Sicons All Purpose Arnica Dog Shampoo</td>\n",
       "      <td>[\"Pet Supplies &gt;&gt; Grooming &gt;&gt; Skin &amp; Coat Care...</td>\n",
       "      <td>PSOEH3ZYDMSYARJ5</td>\n",
       "      <td>220.0</td>\n",
       "      <td>210.0</td>\n",
       "      <td>[\"http://img5a.flixcart.com/image/pet-shampoo/...</td>\n",
       "      <td>False</td>\n",
       "      <td>Specifications of Sicons All Purpose Arnica Do...</td>\n",
       "      <td>No rating available</td>\n",
       "      <td>No rating available</td>\n",
       "      <td>Sicons</td>\n",
       "      <td>{\"product_specification\"=&gt;[{\"key\"=&gt;\"Pet Type\",...</td>\n",
       "    </tr>\n",
       "  </tbody>\n",
       "</table>\n",
       "</div>"
      ],
      "text/plain": [
       "                            uniq_id            crawl_timestamp  \\\n",
       "0  c2d766ca982eca8304150849735ffef9  2016-03-25 22:59:23 +0000   \n",
       "1  7f7036a6d550aaa89d34c77bd39a5e48  2016-03-25 22:59:23 +0000   \n",
       "2  f449ec65dcbc041b6ae5e6a32717d01b  2016-03-25 22:59:23 +0000   \n",
       "3  0973b37acd0c664e3de26e97e5571454  2016-03-25 22:59:23 +0000   \n",
       "4  bc940ea42ee6bef5ac7cea3fb5cfbee7  2016-03-25 22:59:23 +0000   \n",
       "\n",
       "                                         product_url  \\\n",
       "0  http://www.flipkart.com/alisha-solid-women-s-c...   \n",
       "1  http://www.flipkart.com/fabhomedecor-fabric-do...   \n",
       "2  http://www.flipkart.com/aw-bellies/p/itmeh4grg...   \n",
       "3  http://www.flipkart.com/alisha-solid-women-s-c...   \n",
       "4  http://www.flipkart.com/sicons-all-purpose-arn...   \n",
       "\n",
       "                            product_name  \\\n",
       "0    Alisha Solid Women's Cycling Shorts   \n",
       "1    FabHomeDecor Fabric Double Sofa Bed   \n",
       "2                             AW Bellies   \n",
       "3    Alisha Solid Women's Cycling Shorts   \n",
       "4  Sicons All Purpose Arnica Dog Shampoo   \n",
       "\n",
       "                               product_category_tree               pid  \\\n",
       "0  [\"Clothing >> Women's Clothing >> Lingerie, Sl...  SRTEH2FF9KEDEFGF   \n",
       "1  [\"Furniture >> Living Room Furniture >> Sofa B...  SBEEH3QGU7MFYJFY   \n",
       "2  [\"Footwear >> Women's Footwear >> Ballerinas >...  SHOEH4GRSUBJGZXE   \n",
       "3  [\"Clothing >> Women's Clothing >> Lingerie, Sl...  SRTEH2F6HUZMQ6SJ   \n",
       "4  [\"Pet Supplies >> Grooming >> Skin & Coat Care...  PSOEH3ZYDMSYARJ5   \n",
       "\n",
       "   retail_price  discounted_price  \\\n",
       "0         999.0             379.0   \n",
       "1       32157.0           22646.0   \n",
       "2         999.0             499.0   \n",
       "3         699.0             267.0   \n",
       "4         220.0             210.0   \n",
       "\n",
       "                                               image  is_FK_Advantage_product  \\\n",
       "0  [\"http://img5a.flixcart.com/image/short/u/4/a/...                    False   \n",
       "1  [\"http://img6a.flixcart.com/image/sofa-bed/j/f...                    False   \n",
       "2  [\"http://img5a.flixcart.com/image/shoe/7/z/z/r...                    False   \n",
       "3  [\"http://img5a.flixcart.com/image/short/6/2/h/...                    False   \n",
       "4  [\"http://img5a.flixcart.com/image/pet-shampoo/...                    False   \n",
       "\n",
       "                                         description       product_rating  \\\n",
       "0  Key Features of Alisha Solid Women's Cycling S...  No rating available   \n",
       "1  FabHomeDecor Fabric Double Sofa Bed (Finish Co...  No rating available   \n",
       "2  Key Features of AW Bellies Sandals Wedges Heel...  No rating available   \n",
       "3  Key Features of Alisha Solid Women's Cycling S...  No rating available   \n",
       "4  Specifications of Sicons All Purpose Arnica Do...  No rating available   \n",
       "\n",
       "        overall_rating         brand  \\\n",
       "0  No rating available        Alisha   \n",
       "1  No rating available  FabHomeDecor   \n",
       "2  No rating available            AW   \n",
       "3  No rating available        Alisha   \n",
       "4  No rating available        Sicons   \n",
       "\n",
       "                              product_specifications  \n",
       "0  {\"product_specification\"=>[{\"key\"=>\"Number of ...  \n",
       "1  {\"product_specification\"=>[{\"key\"=>\"Installati...  \n",
       "2  {\"product_specification\"=>[{\"key\"=>\"Ideal For\"...  \n",
       "3  {\"product_specification\"=>[{\"key\"=>\"Number of ...  \n",
       "4  {\"product_specification\"=>[{\"key\"=>\"Pet Type\",...  "
      ]
     },
     "execution_count": 4,
     "metadata": {},
     "output_type": "execute_result"
    }
   ],
   "source": [
    "df.head()"
   ]
  },
  {
   "cell_type": "code",
   "execution_count": 5,
   "id": "836957dc",
   "metadata": {},
   "outputs": [
    {
     "data": {
      "text/plain": [
       "(20000, 15)"
      ]
     },
     "execution_count": 5,
     "metadata": {},
     "output_type": "execute_result"
    }
   ],
   "source": [
    "df.shape"
   ]
  },
  {
   "cell_type": "code",
   "execution_count": 6,
   "id": "9ad61326",
   "metadata": {},
   "outputs": [
    {
     "data": {
      "text/plain": [
       "Index(['uniq_id', 'crawl_timestamp', 'product_url', 'product_name',\n",
       "       'product_category_tree', 'pid', 'retail_price', 'discounted_price',\n",
       "       'image', 'is_FK_Advantage_product', 'description', 'product_rating',\n",
       "       'overall_rating', 'brand', 'product_specifications'],\n",
       "      dtype='object')"
      ]
     },
     "execution_count": 6,
     "metadata": {},
     "output_type": "execute_result"
    }
   ],
   "source": [
    "df.columns"
   ]
  },
  {
   "cell_type": "code",
   "execution_count": 7,
   "id": "ce9fd8bc",
   "metadata": {},
   "outputs": [],
   "source": [
    "df = df[['product_name','product_category_tree','description','brand', 'product_specifications','retail_price', 'discounted_price']]"
   ]
  },
  {
   "cell_type": "code",
   "execution_count": 8,
   "id": "fe30bedc",
   "metadata": {},
   "outputs": [
    {
     "data": {
      "text/html": [
       "<div>\n",
       "<style scoped>\n",
       "    .dataframe tbody tr th:only-of-type {\n",
       "        vertical-align: middle;\n",
       "    }\n",
       "\n",
       "    .dataframe tbody tr th {\n",
       "        vertical-align: top;\n",
       "    }\n",
       "\n",
       "    .dataframe thead th {\n",
       "        text-align: right;\n",
       "    }\n",
       "</style>\n",
       "<table border=\"1\" class=\"dataframe\">\n",
       "  <thead>\n",
       "    <tr style=\"text-align: right;\">\n",
       "      <th></th>\n",
       "      <th>product_name</th>\n",
       "      <th>product_category_tree</th>\n",
       "      <th>description</th>\n",
       "      <th>brand</th>\n",
       "      <th>product_specifications</th>\n",
       "      <th>retail_price</th>\n",
       "      <th>discounted_price</th>\n",
       "    </tr>\n",
       "  </thead>\n",
       "  <tbody>\n",
       "    <tr>\n",
       "      <th>0</th>\n",
       "      <td>Alisha Solid Women's Cycling Shorts</td>\n",
       "      <td>[\"Clothing &gt;&gt; Women's Clothing &gt;&gt; Lingerie, Sl...</td>\n",
       "      <td>Key Features of Alisha Solid Women's Cycling S...</td>\n",
       "      <td>Alisha</td>\n",
       "      <td>{\"product_specification\"=&gt;[{\"key\"=&gt;\"Number of ...</td>\n",
       "      <td>999.0</td>\n",
       "      <td>379.0</td>\n",
       "    </tr>\n",
       "    <tr>\n",
       "      <th>1</th>\n",
       "      <td>FabHomeDecor Fabric Double Sofa Bed</td>\n",
       "      <td>[\"Furniture &gt;&gt; Living Room Furniture &gt;&gt; Sofa B...</td>\n",
       "      <td>FabHomeDecor Fabric Double Sofa Bed (Finish Co...</td>\n",
       "      <td>FabHomeDecor</td>\n",
       "      <td>{\"product_specification\"=&gt;[{\"key\"=&gt;\"Installati...</td>\n",
       "      <td>32157.0</td>\n",
       "      <td>22646.0</td>\n",
       "    </tr>\n",
       "    <tr>\n",
       "      <th>2</th>\n",
       "      <td>AW Bellies</td>\n",
       "      <td>[\"Footwear &gt;&gt; Women's Footwear &gt;&gt; Ballerinas &gt;...</td>\n",
       "      <td>Key Features of AW Bellies Sandals Wedges Heel...</td>\n",
       "      <td>AW</td>\n",
       "      <td>{\"product_specification\"=&gt;[{\"key\"=&gt;\"Ideal For\"...</td>\n",
       "      <td>999.0</td>\n",
       "      <td>499.0</td>\n",
       "    </tr>\n",
       "    <tr>\n",
       "      <th>3</th>\n",
       "      <td>Alisha Solid Women's Cycling Shorts</td>\n",
       "      <td>[\"Clothing &gt;&gt; Women's Clothing &gt;&gt; Lingerie, Sl...</td>\n",
       "      <td>Key Features of Alisha Solid Women's Cycling S...</td>\n",
       "      <td>Alisha</td>\n",
       "      <td>{\"product_specification\"=&gt;[{\"key\"=&gt;\"Number of ...</td>\n",
       "      <td>699.0</td>\n",
       "      <td>267.0</td>\n",
       "    </tr>\n",
       "    <tr>\n",
       "      <th>4</th>\n",
       "      <td>Sicons All Purpose Arnica Dog Shampoo</td>\n",
       "      <td>[\"Pet Supplies &gt;&gt; Grooming &gt;&gt; Skin &amp; Coat Care...</td>\n",
       "      <td>Specifications of Sicons All Purpose Arnica Do...</td>\n",
       "      <td>Sicons</td>\n",
       "      <td>{\"product_specification\"=&gt;[{\"key\"=&gt;\"Pet Type\",...</td>\n",
       "      <td>220.0</td>\n",
       "      <td>210.0</td>\n",
       "    </tr>\n",
       "  </tbody>\n",
       "</table>\n",
       "</div>"
      ],
      "text/plain": [
       "                            product_name  \\\n",
       "0    Alisha Solid Women's Cycling Shorts   \n",
       "1    FabHomeDecor Fabric Double Sofa Bed   \n",
       "2                             AW Bellies   \n",
       "3    Alisha Solid Women's Cycling Shorts   \n",
       "4  Sicons All Purpose Arnica Dog Shampoo   \n",
       "\n",
       "                               product_category_tree  \\\n",
       "0  [\"Clothing >> Women's Clothing >> Lingerie, Sl...   \n",
       "1  [\"Furniture >> Living Room Furniture >> Sofa B...   \n",
       "2  [\"Footwear >> Women's Footwear >> Ballerinas >...   \n",
       "3  [\"Clothing >> Women's Clothing >> Lingerie, Sl...   \n",
       "4  [\"Pet Supplies >> Grooming >> Skin & Coat Care...   \n",
       "\n",
       "                                         description         brand  \\\n",
       "0  Key Features of Alisha Solid Women's Cycling S...        Alisha   \n",
       "1  FabHomeDecor Fabric Double Sofa Bed (Finish Co...  FabHomeDecor   \n",
       "2  Key Features of AW Bellies Sandals Wedges Heel...            AW   \n",
       "3  Key Features of Alisha Solid Women's Cycling S...        Alisha   \n",
       "4  Specifications of Sicons All Purpose Arnica Do...        Sicons   \n",
       "\n",
       "                              product_specifications  retail_price  \\\n",
       "0  {\"product_specification\"=>[{\"key\"=>\"Number of ...         999.0   \n",
       "1  {\"product_specification\"=>[{\"key\"=>\"Installati...       32157.0   \n",
       "2  {\"product_specification\"=>[{\"key\"=>\"Ideal For\"...         999.0   \n",
       "3  {\"product_specification\"=>[{\"key\"=>\"Number of ...         699.0   \n",
       "4  {\"product_specification\"=>[{\"key\"=>\"Pet Type\",...         220.0   \n",
       "\n",
       "   discounted_price  \n",
       "0             379.0  \n",
       "1           22646.0  \n",
       "2             499.0  \n",
       "3             267.0  \n",
       "4             210.0  "
      ]
     },
     "execution_count": 8,
     "metadata": {},
     "output_type": "execute_result"
    }
   ],
   "source": [
    "df.head()"
   ]
  },
  {
   "cell_type": "code",
   "execution_count": 9,
   "id": "d473e0eb",
   "metadata": {},
   "outputs": [
    {
     "data": {
      "text/plain": [
       "\"Key Features of Alisha Solid Women's Cycling Shorts Cotton Lycra Navy, Red, Navy,Specifications of Alisha Solid Women's Cycling Shorts Shorts Details Number of Contents in Sales Package Pack of 3 Fabric Cotton Lycra Type Cycling Shorts General Details Pattern Solid Ideal For Women's Fabric Care Gentle Machine Wash in Lukewarm Water, Do Not Bleach Additional Details Style Code ALTHT_3P_21 In the Box 3 shorts\""
      ]
     },
     "execution_count": 9,
     "metadata": {},
     "output_type": "execute_result"
    }
   ],
   "source": [
    "df['description'][0]"
   ]
  },
  {
   "cell_type": "code",
   "execution_count": 10,
   "id": "cd560546",
   "metadata": {},
   "outputs": [
    {
     "data": {
      "text/plain": [
       "'[\"Clothing >> Women\\'s Clothing >> Lingerie, Sleep & Swimwear >> Shorts >> Alisha Shorts >> Alisha Solid Women\\'s Cycling Shorts\"]'"
      ]
     },
     "execution_count": 10,
     "metadata": {},
     "output_type": "execute_result"
    }
   ],
   "source": [
    "df['product_category_tree'][0]"
   ]
  },
  {
   "cell_type": "code",
   "execution_count": 11,
   "id": "9a25c3d4",
   "metadata": {},
   "outputs": [
    {
     "data": {
      "text/plain": [
       "'{\"product_specification\"=>[{\"key\"=>\"Number of Contents in Sales Package\", \"value\"=>\"Pack of 3\"}, {\"key\"=>\"Fabric\", \"value\"=>\"Cotton Lycra\"}, {\"key\"=>\"Type\", \"value\"=>\"Cycling Shorts\"}, {\"key\"=>\"Pattern\", \"value\"=>\"Solid\"}, {\"key\"=>\"Ideal For\", \"value\"=>\"Women\\'s\"}, {\"value\"=>\"Gentle Machine Wash in Lukewarm Water, Do Not Bleach\"}, {\"key\"=>\"Style Code\", \"value\"=>\"ALTHT_3P_21\"}, {\"value\"=>\"3 shorts\"}]}'"
      ]
     },
     "execution_count": 11,
     "metadata": {},
     "output_type": "execute_result"
    }
   ],
   "source": [
    "df['product_specifications'][0]"
   ]
  },
  {
   "cell_type": "code",
   "execution_count": 12,
   "id": "d9376026",
   "metadata": {},
   "outputs": [],
   "source": [
    "def convert_product(x):\n",
    "    L = []\n",
    "    for i in ast.literal_eval(x):\n",
    "        c = i.split(\">>\")\n",
    "        for j in c:\n",
    "            x = j.strip()\n",
    "            L.append(x)\n",
    "        return L\n",
    "        \n",
    "        \n",
    "        "
   ]
  },
  {
   "cell_type": "code",
   "execution_count": 13,
   "id": "3557b2ac",
   "metadata": {},
   "outputs": [],
   "source": [
    "df['product_category_tree_list'] = df['product_category_tree'].apply(convert_product)"
   ]
  },
  {
   "cell_type": "code",
   "execution_count": 14,
   "id": "75d721b1",
   "metadata": {},
   "outputs": [
    {
     "data": {
      "text/plain": [
       "['Clothing',\n",
       " \"Women's Clothing\",\n",
       " 'Lingerie, Sleep & Swimwear',\n",
       " 'Shorts',\n",
       " 'Alisha Shorts',\n",
       " \"Alisha Solid Women's Cycling Shorts\"]"
      ]
     },
     "execution_count": 14,
     "metadata": {},
     "output_type": "execute_result"
    }
   ],
   "source": [
    "df['product_category_tree_list'][0]"
   ]
  },
  {
   "cell_type": "code",
   "execution_count": 15,
   "id": "2d997195",
   "metadata": {},
   "outputs": [],
   "source": [
    "df['product_name_list'] = df['product_name'].apply(lambda x:x.split())"
   ]
  },
  {
   "cell_type": "code",
   "execution_count": 16,
   "id": "286feea3",
   "metadata": {},
   "outputs": [
    {
     "data": {
      "text/plain": [
       "['Alisha', 'Solid', \"Women's\", 'Cycling', 'Shorts']"
      ]
     },
     "execution_count": 16,
     "metadata": {},
     "output_type": "execute_result"
    }
   ],
   "source": [
    "df['product_name_list'][0]"
   ]
  },
  {
   "cell_type": "code",
   "execution_count": 17,
   "id": "00e7207c",
   "metadata": {},
   "outputs": [],
   "source": [
    "df['tags'] = df['product_name_list'] + df['product_category_tree_list']"
   ]
  },
  {
   "cell_type": "code",
   "execution_count": 18,
   "id": "429219ae",
   "metadata": {},
   "outputs": [
    {
     "data": {
      "text/plain": [
       "['Alisha',\n",
       " 'Solid',\n",
       " \"Women's\",\n",
       " 'Cycling',\n",
       " 'Shorts',\n",
       " 'Clothing',\n",
       " \"Women's Clothing\",\n",
       " 'Lingerie, Sleep & Swimwear',\n",
       " 'Shorts',\n",
       " 'Alisha Shorts',\n",
       " \"Alisha Solid Women's Cycling Shorts\"]"
      ]
     },
     "execution_count": 18,
     "metadata": {},
     "output_type": "execute_result"
    }
   ],
   "source": [
    "df['tags'][0]"
   ]
  },
  {
   "cell_type": "code",
   "execution_count": 19,
   "id": "5483e3b1",
   "metadata": {},
   "outputs": [],
   "source": [
    "features_flipkart_df = df[['tags']]"
   ]
  },
  {
   "cell_type": "code",
   "execution_count": 20,
   "id": "ceb10d87",
   "metadata": {},
   "outputs": [
    {
     "name": "stderr",
     "output_type": "stream",
     "text": [
      "<ipython-input-20-6a42d847b148>:1: SettingWithCopyWarning: \n",
      "A value is trying to be set on a copy of a slice from a DataFrame.\n",
      "Try using .loc[row_indexer,col_indexer] = value instead\n",
      "\n",
      "See the caveats in the documentation: https://pandas.pydata.org/pandas-docs/stable/user_guide/indexing.html#returning-a-view-versus-a-copy\n",
      "  features_flipkart_df['tags'] = features_flipkart_df['tags'].apply(lambda x: \" \".join(x))\n"
     ]
    }
   ],
   "source": [
    "features_flipkart_df['tags'] = features_flipkart_df['tags'].apply(lambda x: \" \".join(x))"
   ]
  },
  {
   "cell_type": "code",
   "execution_count": 21,
   "id": "7dd9d260",
   "metadata": {},
   "outputs": [
    {
     "data": {
      "text/html": [
       "<div>\n",
       "<style scoped>\n",
       "    .dataframe tbody tr th:only-of-type {\n",
       "        vertical-align: middle;\n",
       "    }\n",
       "\n",
       "    .dataframe tbody tr th {\n",
       "        vertical-align: top;\n",
       "    }\n",
       "\n",
       "    .dataframe thead th {\n",
       "        text-align: right;\n",
       "    }\n",
       "</style>\n",
       "<table border=\"1\" class=\"dataframe\">\n",
       "  <thead>\n",
       "    <tr style=\"text-align: right;\">\n",
       "      <th></th>\n",
       "      <th>tags</th>\n",
       "    </tr>\n",
       "  </thead>\n",
       "  <tbody>\n",
       "    <tr>\n",
       "      <th>0</th>\n",
       "      <td>Alisha Solid Women's Cycling Shorts Clothing W...</td>\n",
       "    </tr>\n",
       "    <tr>\n",
       "      <th>1</th>\n",
       "      <td>FabHomeDecor Fabric Double Sofa Bed Furniture ...</td>\n",
       "    </tr>\n",
       "    <tr>\n",
       "      <th>2</th>\n",
       "      <td>AW Bellies Footwear Women's Footwear Ballerina...</td>\n",
       "    </tr>\n",
       "    <tr>\n",
       "      <th>3</th>\n",
       "      <td>Alisha Solid Women's Cycling Shorts Clothing W...</td>\n",
       "    </tr>\n",
       "    <tr>\n",
       "      <th>4</th>\n",
       "      <td>Sicons All Purpose Arnica Dog Shampoo Pet Supp...</td>\n",
       "    </tr>\n",
       "    <tr>\n",
       "      <th>...</th>\n",
       "      <td>...</td>\n",
       "    </tr>\n",
       "    <tr>\n",
       "      <th>19995</th>\n",
       "      <td>WallDesign Small Vinyl Sticker Baby Care Baby ...</td>\n",
       "    </tr>\n",
       "    <tr>\n",
       "      <th>19996</th>\n",
       "      <td>Wallmantra Large Vinyl Stickers Sticker Baby C...</td>\n",
       "    </tr>\n",
       "    <tr>\n",
       "      <th>19997</th>\n",
       "      <td>Elite Collection Medium Acrylic Sticker Baby C...</td>\n",
       "    </tr>\n",
       "    <tr>\n",
       "      <th>19998</th>\n",
       "      <td>Elite Collection Medium Acrylic Sticker Baby C...</td>\n",
       "    </tr>\n",
       "    <tr>\n",
       "      <th>19999</th>\n",
       "      <td>Elite Collection Medium Acrylic Sticker Baby C...</td>\n",
       "    </tr>\n",
       "  </tbody>\n",
       "</table>\n",
       "<p>20000 rows × 1 columns</p>\n",
       "</div>"
      ],
      "text/plain": [
       "                                                    tags\n",
       "0      Alisha Solid Women's Cycling Shorts Clothing W...\n",
       "1      FabHomeDecor Fabric Double Sofa Bed Furniture ...\n",
       "2      AW Bellies Footwear Women's Footwear Ballerina...\n",
       "3      Alisha Solid Women's Cycling Shorts Clothing W...\n",
       "4      Sicons All Purpose Arnica Dog Shampoo Pet Supp...\n",
       "...                                                  ...\n",
       "19995  WallDesign Small Vinyl Sticker Baby Care Baby ...\n",
       "19996  Wallmantra Large Vinyl Stickers Sticker Baby C...\n",
       "19997  Elite Collection Medium Acrylic Sticker Baby C...\n",
       "19998  Elite Collection Medium Acrylic Sticker Baby C...\n",
       "19999  Elite Collection Medium Acrylic Sticker Baby C...\n",
       "\n",
       "[20000 rows x 1 columns]"
      ]
     },
     "execution_count": 21,
     "metadata": {},
     "output_type": "execute_result"
    }
   ],
   "source": [
    "features_flipkart_df"
   ]
  },
  {
   "cell_type": "code",
   "execution_count": 22,
   "id": "2db17168",
   "metadata": {},
   "outputs": [],
   "source": [
    "features_flipkart_df.to_csv('Flipkart_keywords.csv',index=False)"
   ]
  },
  {
   "cell_type": "code",
   "execution_count": null,
   "id": "75b39aac",
   "metadata": {},
   "outputs": [],
   "source": []
  },
  {
   "cell_type": "code",
   "execution_count": 23,
   "id": "0ab2c0b8",
   "metadata": {},
   "outputs": [
    {
     "data": {
      "text/plain": [
       "(20000, 1)"
      ]
     },
     "execution_count": 23,
     "metadata": {},
     "output_type": "execute_result"
    }
   ],
   "source": [
    "features_flipkart_df.shape"
   ]
  },
  {
   "cell_type": "code",
   "execution_count": 24,
   "id": "76848228",
   "metadata": {},
   "outputs": [
    {
     "name": "stderr",
     "output_type": "stream",
     "text": [
      "[nltk_data] Downloading package stopwords to\n",
      "[nltk_data]     C:\\Users\\hrith\\AppData\\Roaming\\nltk_data...\n",
      "[nltk_data]   Package stopwords is already up-to-date!\n"
     ]
    },
    {
     "data": {
      "text/plain": [
       "True"
      ]
     },
     "execution_count": 24,
     "metadata": {},
     "output_type": "execute_result"
    }
   ],
   "source": [
    "import re\n",
    "import nltk\n",
    "from nltk.stem import PorterStemmer\n",
    "\n",
    "from nltk.corpus import stopwords\n",
    "nltk.download('stopwords')"
   ]
  },
  {
   "cell_type": "code",
   "execution_count": 25,
   "id": "96184800",
   "metadata": {},
   "outputs": [
    {
     "data": {
      "text/plain": [
       "\"Alisha Solid Women's Cycling Shorts Clothing Women's Clothing Lingerie, Sleep & Swimwear Shorts Alisha Shorts Alisha Solid Women's Cycling Shorts\""
      ]
     },
     "execution_count": 25,
     "metadata": {},
     "output_type": "execute_result"
    }
   ],
   "source": [
    "features_flipkart_df['tags'][0]"
   ]
  },
  {
   "cell_type": "code",
   "execution_count": 26,
   "id": "9df88960",
   "metadata": {},
   "outputs": [],
   "source": [
    "ps = PorterStemmer()"
   ]
  },
  {
   "cell_type": "code",
   "execution_count": 27,
   "id": "261ba956",
   "metadata": {},
   "outputs": [],
   "source": [
    "def token(text):\n",
    "    text = re.sub('[^a-zA-Z]',' ',text)\n",
    "    text  = text.lower()\n",
    "    text = nltk.word_tokenize(text)\n",
    "    text = [ps.stem(word) for word in text if word not in set(stopwords.words('english'))]\n",
    "    return ' '.join(text)"
   ]
  },
  {
   "cell_type": "code",
   "execution_count": 28,
   "id": "c00a9475",
   "metadata": {},
   "outputs": [
    {
     "data": {
      "text/plain": [
       "'alisha solid women cycl short cloth women cloth lingeri sleep swimwear short alisha short alisha solid women cycl short'"
      ]
     },
     "execution_count": 28,
     "metadata": {},
     "output_type": "execute_result"
    }
   ],
   "source": [
    "token(features_flipkart_df['tags'][0])"
   ]
  },
  {
   "cell_type": "code",
   "execution_count": 29,
   "id": "79cfffe7",
   "metadata": {},
   "outputs": [
    {
     "name": "stderr",
     "output_type": "stream",
     "text": [
      "<ipython-input-29-4bd8b034992a>:1: SettingWithCopyWarning: \n",
      "A value is trying to be set on a copy of a slice from a DataFrame.\n",
      "Try using .loc[row_indexer,col_indexer] = value instead\n",
      "\n",
      "See the caveats in the documentation: https://pandas.pydata.org/pandas-docs/stable/user_guide/indexing.html#returning-a-view-versus-a-copy\n",
      "  features_flipkart_df['tags_token'] = features_flipkart_df['tags'].apply(token)\n"
     ]
    }
   ],
   "source": [
    "features_flipkart_df['tags_token'] = features_flipkart_df['tags'].apply(token)"
   ]
  },
  {
   "cell_type": "code",
   "execution_count": 30,
   "id": "f0956847",
   "metadata": {},
   "outputs": [],
   "source": [
    "from sklearn.feature_extraction.text import CountVectorizer\n",
    "cv = CountVectorizer(max_features=5000,stop_words='english')"
   ]
  },
  {
   "cell_type": "code",
   "execution_count": 31,
   "id": "21948f37",
   "metadata": {},
   "outputs": [],
   "source": [
    "vector = cv.fit_transform(features_flipkart_df['tags_token']).toarray()"
   ]
  },
  {
   "cell_type": "code",
   "execution_count": 32,
   "id": "047eb9df",
   "metadata": {},
   "outputs": [
    {
     "data": {
      "text/plain": [
       "array([[0, 0, 0, ..., 0, 0, 0],\n",
       "       [0, 0, 0, ..., 0, 0, 0],\n",
       "       [0, 0, 0, ..., 0, 0, 0],\n",
       "       ...,\n",
       "       [0, 0, 0, ..., 0, 0, 0],\n",
       "       [0, 0, 0, ..., 0, 0, 0],\n",
       "       [0, 0, 0, ..., 0, 0, 0]], dtype=int64)"
      ]
     },
     "execution_count": 32,
     "metadata": {},
     "output_type": "execute_result"
    }
   ],
   "source": [
    "vector"
   ]
  },
  {
   "cell_type": "code",
   "execution_count": 33,
   "id": "c8951198",
   "metadata": {},
   "outputs": [],
   "source": [
    "from sklearn.metrics.pairwise import cosine_similarity\n",
    "similarity =cosine_similarity(vector)"
   ]
  },
  {
   "cell_type": "code",
   "execution_count": 34,
   "id": "3aea6729",
   "metadata": {},
   "outputs": [
    {
     "data": {
      "text/plain": [
       "array([[1.        , 0.        , 0.11454053, ..., 0.        , 0.        ,\n",
       "        0.        ],\n",
       "       [0.        , 1.        , 0.        , ..., 0.        , 0.        ,\n",
       "        0.        ],\n",
       "       [0.11454053, 0.        , 1.        , ..., 0.        , 0.        ,\n",
       "        0.        ],\n",
       "       ...,\n",
       "       [0.        , 0.        , 0.        , ..., 1.        , 1.        ,\n",
       "        1.        ],\n",
       "       [0.        , 0.        , 0.        , ..., 1.        , 1.        ,\n",
       "        1.        ],\n",
       "       [0.        , 0.        , 0.        , ..., 1.        , 1.        ,\n",
       "        1.        ]])"
      ]
     },
     "execution_count": 34,
     "metadata": {},
     "output_type": "execute_result"
    }
   ],
   "source": [
    "similarity"
   ]
  },
  {
   "cell_type": "code",
   "execution_count": 35,
   "id": "f6763d7a",
   "metadata": {},
   "outputs": [
    {
     "data": {
      "text/plain": [
       "(20000, 20000)"
      ]
     },
     "execution_count": 35,
     "metadata": {},
     "output_type": "execute_result"
    }
   ],
   "source": [
    "similarity.shape"
   ]
  },
  {
   "cell_type": "code",
   "execution_count": 36,
   "id": "c5b731f1",
   "metadata": {},
   "outputs": [
    {
     "data": {
      "text/plain": [
       "2"
      ]
     },
     "execution_count": 36,
     "metadata": {},
     "output_type": "execute_result"
    }
   ],
   "source": [
    "df[df['product_name'] == 'AW Bellies'].index[0]"
   ]
  },
  {
   "cell_type": "code",
   "execution_count": 37,
   "id": "de843e72",
   "metadata": {},
   "outputs": [],
   "source": [
    "prod_search = 'JDK NOVELTY Shoulder Bag'\n",
    "\n",
    "index = df[df['product_name'] == prod_search].index[0]\n",
    "distance = sorted(list(enumerate(similarity[index])),reverse=True,key=lambda x: x[1])\n"
   ]
  },
  {
   "cell_type": "code",
   "execution_count": 38,
   "id": "916ded9a",
   "metadata": {},
   "outputs": [
    {
     "data": {
      "text/plain": [
       "[(2989, 1.0000000000000002),\n",
       " (2998, 0.9846153846153848),\n",
       " (3000, 0.9846153846153848),\n",
       " (3007, 0.9846153846153848),\n",
       " (3004, 0.9771277064839349)]"
      ]
     },
     "execution_count": 38,
     "metadata": {},
     "output_type": "execute_result"
    }
   ],
   "source": [
    "distance[0:5]"
   ]
  },
  {
   "cell_type": "code",
   "execution_count": 39,
   "id": "b9413380",
   "metadata": {},
   "outputs": [
    {
     "data": {
      "text/plain": [
       "Index(['product_name', 'product_category_tree', 'description', 'brand',\n",
       "       'product_specifications', 'retail_price', 'discounted_price',\n",
       "       'product_category_tree_list', 'product_name_list', 'tags'],\n",
       "      dtype='object')"
      ]
     },
     "execution_count": 39,
     "metadata": {},
     "output_type": "execute_result"
    }
   ],
   "source": [
    "df.columns"
   ]
  },
  {
   "cell_type": "code",
   "execution_count": 40,
   "id": "fee06d79",
   "metadata": {},
   "outputs": [
    {
     "name": "stdout",
     "output_type": "stream",
     "text": [
      "JDK NOVELTY Shoulder Bag\n",
      "Retail Price: 2200.0\n",
      "Discounted Price: 999.0\n",
      "\n",
      "Key Features of JDK NOVELTY Shoulder Bag Ideal For: Women, Girls Material: Leatherette, PU Closure: Zip,Specifications of JDK NOVELTY Shoulder Bag (White) General Closure Zip Type Shoulder Bag Material Leatherette, PU Style Code BG-N1506White Occasion Casual, Evening/Party, Travel Bag Size Large Ideal For Women, Girls Color Code White Dimensions Height 420 mm Width 280 mm Depth 130 mm Body Features Number of Pockets 5 Number of Compartments 1 In the Box Shoulder Bag\n",
      "------------------------------------------------------------------------------------------------------------------------\n",
      "\n",
      "JDK NOVELTY Shoulder Bag\n",
      "Retail Price: 3300.0\n",
      "Discounted Price: 1199.0\n",
      "\n",
      "Key Features of JDK NOVELTY Shoulder Bag Ideal For: Women, Girls Material: Leatherette, PU Closure: Zip,Specifications of JDK NOVELTY Shoulder Bag (Pink) General Closure Zip Type Shoulder Bag Material Leatherette, PU Style Code BG-N1298Pink Ideal For Women, Girls Bag Size Large Occasion Casual, Evening/Party, Travel Color Code Pink Dimensions Height 390 mm Width 240 mm Depth 130 mm In the Box Shoulder Bag Body Features Number of Pockets 4 Number of Compartments 1\n",
      "------------------------------------------------------------------------------------------------------------------------\n",
      "\n",
      "JDK NOVELTY Shoulder Bag\n",
      "Retail Price: 4200.0\n",
      "Discounted Price: 1449.0\n",
      "\n",
      "Key Features of JDK NOVELTY Shoulder Bag Material: Leather / Leatherette / P.U. Color: Blue Size: Large Dimensions: 29 cm x 41 cm x 14 cm / 11.42 inch x 16.14 inch x 5.51 inch Shoulder Belt Drop: 22 cm / 8.66 inch Sling Belt Drop: 60 cm / 23.62 inch 1 Main Compartment with Zip Closure 1 Partition with Zip Closure 2 Open Pockets inside 1 Pocket with Zip Closure Packaging: Packaging in Transparent Plastic filled with Paper to retain the shape of Bag while in Transit Care Instructions: Do not expose to Extreme Heat,JDK NOVELTY Shoulder Bag (Blue) Price: Rs. 1,449 ASTA Shoulder Bag by JDK NOVELTY is a stylish and trendy way to stay organized on-the-go. Lovely and elegant design convenient for you to hold all the essentials. You deserve to have one. Shoulder Bag is smooth and soft made of good quality material. Keep all your necessities neatly organised in this bag. This is created with multiple pockets and ample space for your cards, cash, coins and much more,Specifications of JDK NOVELTY Shoulder Bag (Blue) General Closure Zip Type Shoulder Bag Material Leatherette, PU Style Code BG-N1206Blue Ideal For Women, Girls Bag Size Large Occasion Casual, Evening/Party, Travel Color Code Blue Dimensions Height 410 mm Width 290 mm Depth 140 mm In the Box Shoulder Bag Body Features Number of Pockets 4 Number of Compartments 1\n",
      "------------------------------------------------------------------------------------------------------------------------\n",
      "\n",
      "JDK NOVELTY Shoulder Bag\n",
      "Retail Price: 3300.0\n",
      "Discounted Price: 1199.0\n",
      "\n",
      "Key Features of JDK NOVELTY Shoulder Bag Material: Fabric Color: Black / Multicolor Size: Large Dimensions: 31 cm x 26 cm x 19 cm / 12.20 inch x 10.24 inch x 7.48 inch Handle Belt Drop: 9 cm / 3.54 inch Single Sling Belt Drop: 33 cm / 12.99 inch Double Sling Belt Drop 80 cm / 31.49 Inch 2 Sling belts included Sling Belts can be used as backpack straps as shown in the photo 1 Main Partition with Zip Closure 2 Open Pockets Inside 1 Pocket Inside with Zip Closure Spacious Backpack for Daily Use Packaging: Packaging in Transparent Plastic filled with Paper to retain the shape of Bag while in Transit Care Instructions: Do not expose to Extreme Heat,JDK NOVELTY Shoulder Bag (Black, Multicolor) Price: Rs. 1,199 SIGNY Shoulder Bag by JDK NOVELTY is a stylish and trendy way to stay organized on-the-go. Lovely and elegant design convenient for you to hold all the essentials. You deserve to have one. Shoulder Bag is smooth and soft made of good quality material. Keep all your necessities neatly organised in this bag. This is created with multiple pockets and ample space for your cards, cash, coins and much more,Specifications of JDK NOVELTY Shoulder Bag (Black, Multicolor) General Closure Zip Type Shoulder Bag Material Leatherette, PU Style Code BG-N1254BlackPolka Occasion Casual, Evening/Party, Travel Bag Size Large Ideal For Women, Girls Color Code Black, Multicolor Dimensions Height 260 mm Width 310 mm Depth 190 mm Body Features Number of Pockets 3 Number of Compartments 1 In the Box Hand-held Bag\n",
      "------------------------------------------------------------------------------------------------------------------------\n",
      "\n",
      "JDK NOVELTY Shoulder Bag\n",
      "Retail Price: 3300.0\n",
      "Discounted Price: 1199.0\n",
      "\n",
      "Key Features of JDK NOVELTY Shoulder Bag Ideal For: Women, Girls Material: Leatherette, PU Closure: Zip,Specifications of JDK NOVELTY Shoulder Bag (Beige, Light Brown) General Closure Zip Type Shoulder Bag Material Leatherette, PU Style Code BG-N1298Beige Occasion Casual, Evening/Party, Travel Bag Size Large Ideal For Women, Girls Color Code Beige, Light Brown Dimensions Height 390 mm Width 240 mm Depth 130 mm Body Features Number of Pockets 4 Number of Compartments 1 In the Box Shoulder Bag\n",
      "------------------------------------------------------------------------------------------------------------------------\n",
      "\n"
     ]
    }
   ],
   "source": [
    "for i,y in distance[1:6]:\n",
    "    print(df.loc[i,'product_name'])\n",
    "    print(f\"Retail Price: {df.loc[i,'retail_price']}\")\n",
    "    print(f\"Discounted Price: {df.loc[i,'discounted_price']}\")\n",
    "    print()\n",
    "    print(df.loc[i,'description'])\n",
    "    print('-'*120)\n",
    "    print()"
   ]
  },
  {
   "cell_type": "code",
   "execution_count": 41,
   "id": "0d6868c9",
   "metadata": {},
   "outputs": [],
   "source": [
    "amazon_df = pd.read_csv('amz_com-ecommerce_sample.csv')\n",
    "df_amazon = amazon_df[['product_name','product_category_tree','description','brand', 'product_specifications','retail_price', 'discounted_price']]"
   ]
  },
  {
   "cell_type": "code",
   "execution_count": 42,
   "id": "7d3cc862",
   "metadata": {},
   "outputs": [
    {
     "data": {
      "text/plain": [
       "(20000, 7)"
      ]
     },
     "execution_count": 42,
     "metadata": {},
     "output_type": "execute_result"
    }
   ],
   "source": [
    "df_amazon.shape"
   ]
  },
  {
   "cell_type": "code",
   "execution_count": 49,
   "id": "d197d719",
   "metadata": {},
   "outputs": [],
   "source": [
    "def product_search(product):\n",
    "    index = df[df['product_name'] == product].index[0]\n",
    "    distance = sorted(list(enumerate(similarity[index])),reverse=True,key=lambda x: x[1])\n",
    "    final_df = pd.DataFrame(columns=['Product Name in Flipkart','Retail Price in Flipkart','Discounted Price in Flipkart','Product Name in Amazon','Retail Price in Amazon','Discounted Price in Amazon'])\n",
    "    c=0\n",
    "    for i,y in distance[1:6]:\n",
    "        final_df.loc[c,'Product Name in Flipkart'] = df.loc[i,'product_name']\n",
    "        final_df.loc[c,'Retail Price in Flipkart'] = df.loc[i,'retail_price']\n",
    "        final_df.loc[c,'Discounted Price in Flipkart'] = df.loc[i,'discounted_price']\n",
    "        final_df.loc[c,'Product Name in Amazon'] = df_amazon.loc[i,'product_name']\n",
    "        final_df.loc[c,'Retail Price in Amazon'] = df_amazon.loc[i,'retail_price']\n",
    "        final_df.loc[c,'Discounted Price in Amazon'] = df_amazon.loc[i,'discounted_price']\n",
    "        c=c+1\n",
    "    return final_df\n",
    "    "
   ]
  },
  {
   "cell_type": "code",
   "execution_count": 50,
   "id": "ffcdf0d9",
   "metadata": {},
   "outputs": [
    {
     "data": {
      "text/html": [
       "<div>\n",
       "<style scoped>\n",
       "    .dataframe tbody tr th:only-of-type {\n",
       "        vertical-align: middle;\n",
       "    }\n",
       "\n",
       "    .dataframe tbody tr th {\n",
       "        vertical-align: top;\n",
       "    }\n",
       "\n",
       "    .dataframe thead th {\n",
       "        text-align: right;\n",
       "    }\n",
       "</style>\n",
       "<table border=\"1\" class=\"dataframe\">\n",
       "  <thead>\n",
       "    <tr style=\"text-align: right;\">\n",
       "      <th></th>\n",
       "      <th>Product Name in Flipkart</th>\n",
       "      <th>Retail Price in Flipkart</th>\n",
       "      <th>Discounted Price in Flipkart</th>\n",
       "      <th>Product Name in Amazon</th>\n",
       "      <th>Retail Price in Amazon</th>\n",
       "      <th>Discounted Price in Amazon</th>\n",
       "    </tr>\n",
       "  </thead>\n",
       "  <tbody>\n",
       "    <tr>\n",
       "      <th>0</th>\n",
       "      <td>Escocer Women's Leggings</td>\n",
       "      <td>2394.0</td>\n",
       "      <td>788.0</td>\n",
       "      <td>Escocer Women's Leggings</td>\n",
       "      <td>2385</td>\n",
       "      <td>951</td>\n",
       "    </tr>\n",
       "    <tr>\n",
       "      <th>1</th>\n",
       "      <td>N-Gal Women's Leggings</td>\n",
       "      <td>750.0</td>\n",
       "      <td>525.0</td>\n",
       "      <td>N-Gal Women's Leggings</td>\n",
       "      <td>735</td>\n",
       "      <td>637</td>\n",
       "    </tr>\n",
       "    <tr>\n",
       "      <th>2</th>\n",
       "      <td>Prestitia Women's Leggings</td>\n",
       "      <td>510.0</td>\n",
       "      <td>255.0</td>\n",
       "      <td>Prestitia Women's Leggings</td>\n",
       "      <td>494</td>\n",
       "      <td>293</td>\n",
       "    </tr>\n",
       "    <tr>\n",
       "      <th>3</th>\n",
       "      <td>Elaine Women's Leggings</td>\n",
       "      <td>495.0</td>\n",
       "      <td>395.0</td>\n",
       "      <td>Elaine Women's Leggings</td>\n",
       "      <td>478</td>\n",
       "      <td>456</td>\n",
       "    </tr>\n",
       "    <tr>\n",
       "      <th>4</th>\n",
       "      <td>Fizzaro Women's Leggings</td>\n",
       "      <td>989.0</td>\n",
       "      <td>989.0</td>\n",
       "      <td>Fizzaro Women's Leggings</td>\n",
       "      <td>973</td>\n",
       "      <td>1269</td>\n",
       "    </tr>\n",
       "  </tbody>\n",
       "</table>\n",
       "</div>"
      ],
      "text/plain": [
       "     Product Name in Flipkart Retail Price in Flipkart  \\\n",
       "0    Escocer Women's Leggings                   2394.0   \n",
       "1      N-Gal Women's Leggings                    750.0   \n",
       "2  Prestitia Women's Leggings                    510.0   \n",
       "3     Elaine Women's Leggings                    495.0   \n",
       "4    Fizzaro Women's Leggings                    989.0   \n",
       "\n",
       "  Discounted Price in Flipkart      Product Name in Amazon  \\\n",
       "0                        788.0    Escocer Women's Leggings   \n",
       "1                        525.0      N-Gal Women's Leggings   \n",
       "2                        255.0  Prestitia Women's Leggings   \n",
       "3                        395.0     Elaine Women's Leggings   \n",
       "4                        989.0    Fizzaro Women's Leggings   \n",
       "\n",
       "  Retail Price in Amazon Discounted Price in Amazon  \n",
       "0                   2385                        951  \n",
       "1                    735                        637  \n",
       "2                    494                        293  \n",
       "3                    478                        456  \n",
       "4                    973                       1269  "
      ]
     },
     "execution_count": 50,
     "metadata": {},
     "output_type": "execute_result"
    }
   ],
   "source": [
    "product_search(\"FDT Women's Leggings\")"
   ]
  },
  {
   "cell_type": "markdown",
   "id": "3093c65a",
   "metadata": {},
   "source": [
    "# Thank You!!!"
   ]
  },
  {
   "cell_type": "code",
   "execution_count": null,
   "id": "4c19d11e",
   "metadata": {},
   "outputs": [],
   "source": []
  }
 ],
 "metadata": {
  "kernelspec": {
   "display_name": "Python 3",
   "language": "python",
   "name": "python3"
  },
  "language_info": {
   "codemirror_mode": {
    "name": "ipython",
    "version": 3
   },
   "file_extension": ".py",
   "mimetype": "text/x-python",
   "name": "python",
   "nbconvert_exporter": "python",
   "pygments_lexer": "ipython3",
   "version": "3.8.8"
  }
 },
 "nbformat": 4,
 "nbformat_minor": 5
}
